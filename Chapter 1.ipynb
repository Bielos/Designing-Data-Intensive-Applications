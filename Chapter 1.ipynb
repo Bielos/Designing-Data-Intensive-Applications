{
 "cells": [
  {
   "cell_type": "markdown",
   "metadata": {},
   "source": [
    "# Part 1: Foundations of Data Systems\n",
    "\n",
    "The concepts and methods in this part comprise data systems from the point of view of a single physical machine."
   ]
  },
  {
   "cell_type": "markdown",
   "metadata": {},
   "source": [
    "## Chapter 1: Reliable, Scalable, and Maintainable Applications\n",
    "\n",
    "![](images/image_1.png)"
   ]
  },
  {
   "cell_type": "markdown",
   "metadata": {},
   "source": [
    "!! Definition !!\n",
    "\n",
    "* **Data Intensive Application:** \n",
    "Raw CPU power is rarely a limiting factor for these applications—bigger problems are\n",
    "usually the amount of data, the complexity of data, and the speed at which it is\n",
    "changing.\n",
    "\n",
    "Examples of needs of a Data Intensive Application:\n",
    "* Store data so that they, or another application, can find it again later (databases)\n",
    "* Remember the result of an expensive operation, to speed up reads (caches)\n",
    "* Allow users to search data by keyword or filter it in various ways (search indexes)\n",
    "* Send a message to another process, to be handled asynchronously (stream processing)\n",
    "* Periodically crunch a large amount of accumulated data (batch processing)\n",
    "\n",
    "![](images/image_2.png)"
   ]
  },
  {
   "cell_type": "markdown",
   "metadata": {},
   "source": [
    "!! Definition !!\n",
    "* **Reliability:** The system should continue to work correctly (performing the correct function at\n",
    "the desired level of performance) even in the face of adversity (hardware or software\n",
    "faults, and even human error).\n",
    "\n",
    "* **Scalability:** As the system grows (in data volume, traffic volume, or complexity), there should\n",
    "be reasonable ways of dealing with that growth.\n",
    "\n",
    "* **Maintainability:** Over time, many different people will work on the system (engineering and operations,\n",
    "both maintaining current behavior and adapting the system to new use\n",
    "cases), and they should all be able to work on it productively.\n",
    "\n",
    "---"
   ]
  },
  {
   "cell_type": "markdown",
   "metadata": {},
   "source": [
    "### **Reliability**\n",
    "\n",
    "Means the ability of the system to working correctly even when faults appears. There are 3 typical types of faults:\n",
    "* **Hardware Faults** \n",
    "* **Software Errors**\n",
    "* **Human Errors**"
   ]
  },
  {
   "cell_type": "markdown",
   "metadata": {},
   "source": [
    "#### **Hardare Faults**\n",
    "Hard disks crash, RAM becomes faulty, the power grid has a blackout, someone\n",
    "unplugs the wrong network cable, etc.\n",
    "\n",
    "**PREVENTION STRATEGY:** \n",
    "\n",
    "To add redundancy to the individual hardware components\n",
    "in order to reduce the failure rate of the system. Disks may be set up in a RAID\n",
    "configuration, servers may have dual power supplies and hot-swappable CPUs, and\n",
    "datacenters may have batteries and diesel generators for backup power. When one\n",
    "component dies, the redundant component can take its place while the broken component\n",
    "is replaced. This approach cannot completely prevent hardware problems\n",
    "from causing failures.\n",
    "\n",
    "Hence there is a move toward systems that can tolerate the loss of entire machines, by\n",
    "using software fault-tolerance techniques in preference or in addition to hardware\n",
    "redundancy. Such systems also have operational advantages: a single-server system\n",
    "requires planned downtime if you need to reboot the machine (to apply operating\n",
    "system security patches, for example), whereas a system that can tolerate machine\n",
    "failure can be patched one node at a time, without downtime of the entire system (a\n",
    "rolling upgrade)"
   ]
  },
  {
   "cell_type": "markdown",
   "metadata": {},
   "source": [
    "#### **Software Errors**\n",
    "Are faults are harder to anticipate, and because they are correlated across nodes, they tend to cause\n",
    "many more system failures than uncorrelated hardware faults.\n",
    "\n",
    "**PREVENTION STRATEGY:** \n",
    "\n",
    "There is no quick solution to the problem of systematic faults in software. Lots of\n",
    "small things can help: carefully thinking about assumptions and interactions in the\n",
    "system; thorough testing; process isolation; allowing processes to crash and restart;\n",
    "measuring, monitoring, and analyzing system behavior in production. If a system is\n",
    "expected to provide some guarantee (for example, in a message queue, that the number\n",
    "of incoming messages equals the number of outgoing messages), it can constantly\n",
    "check itself while it is running and raise an alert if a discrepancy is found"
   ]
  },
  {
   "cell_type": "markdown",
   "metadata": {},
   "source": [
    "#### **Human Errors**\n",
    "Humans design and build software systems, and the operators who keep the systems\n",
    "running are also human. Even when they have the best intentions, humans are\n",
    "known to be unreliable.\n",
    "\n",
    "**PREVENTION STRATEGY:** \n",
    "\n",
    "How do we make our systems reliable, in spite of unreliable humans? The best systems\n",
    "combine several approaches:\n",
    "* Design systems in a way that minimizes opportunities for error. For example,\n",
    "well-designed abstractions, APIs, and admin interfaces make it easy to do “the\n",
    "right thing” and discourage “the wrong thing.” However, if the interfaces are too\n",
    "restrictive people will work around them, negating their benefit, so this is a tricky\n",
    "balance to get right.\n",
    "* Decouple the places where people make the most mistakes from the places where\n",
    "they can cause failures. In particular, provide fully featured non-production\n",
    "sandbox environments where people can explore and experiment safely, using\n",
    "real data, without affecting real users.\n",
    "* Test thoroughly at all levels, from unit tests to whole-system integration tests and\n",
    "manual tests. Automated testing is widely used, well understood, and especially\n",
    "valuable for covering corner cases that rarely arise in normal operation.\n",
    "* Allow quick and easy recovery from human errors, to minimize the impact in the\n",
    "case of a failure. For example, make it fast to roll back configuration changes, roll\n",
    "out new code gradually (so that any unexpected bugs affect only a small subset of\n",
    "users), and provide tools to recompute data (in case it turns out that the old computation\n",
    "was incorrect).\n",
    "* Set up detailed and clear monitoring, such as performance metrics and error\n",
    "rates. In other engineering disciplines this is referred to as telemetry. (Once a\n",
    "rocket has left the ground, telemetry is essential for tracking what is happening,\n",
    "and for understanding failures.) Monitoring can show us early warning signals\n",
    "and allow us to check whether any assumptions or constraints are being violated.\n",
    "When a problem occurs, metrics can be invaluable in diagnosing the issue.\n",
    "* Implement good management practices and training—a complex and important\n",
    "aspect, and beyond the scope of this book.\n",
    "\n",
    "---"
   ]
  },
  {
   "cell_type": "markdown",
   "metadata": {},
   "source": [
    "### **Scalability**\n",
    "\n",
    "Scalability is the term we use to describe a system’s ability to cope with increased\n",
    "load. Note, however, that it is not a one-dimensional label that we can attach to a system:\n",
    "it is meaningless to say “X is scalable” or “Y doesn’t scale.” Rather, discussing scalability means considering questions like “If the system grows in a particular way,\n",
    "what are our options for coping with the growth?” and “How can we add computing\n",
    "resources to handle the additional load?”"
   ]
  },
  {
   "cell_type": "markdown",
   "metadata": {},
   "source": [
    "#### **Measuring load**\n",
    "Load can be described\n",
    "with a few numbers which we call load parameters. The best choice of parameters\n",
    "depends on the architecture of your system: it may be requests per second to a web\n",
    "server, the ratio of reads to writes in a database, the number of simultaneously active\n",
    "users in a chat room, the hit rate on a cache, or something else. Perhaps the average\n",
    "case is what matters for you, or perhaps your bottleneck is dominated by a small\n",
    "number of extreme cases.\n",
    "\n",
    "![](images/image_3.png)"
   ]
  },
  {
   "cell_type": "markdown",
   "metadata": {},
   "source": [
    "#### **Performance**\n",
    "Once you have described the load on your system, you can investigate what happens\n",
    "when the load increases. You can look at it in two ways:\n",
    "* When you increase a load parameter and keep the system resources (CPU, memory,\n",
    "network bandwidth, etc.) unchanged, how is the performance of your system\n",
    "affected?\n",
    "* When you increase a load parameter, how much do you need to increase the\n",
    "resources if you want to keep performance unchanged?\n",
    "\n",
    "Both questions require performance numbers, so let’s look briefly at describing the\n",
    "performance of a system."
   ]
  },
  {
   "cell_type": "markdown",
   "metadata": {},
   "source": [
    "Examples:\n",
    "\n",
    "In a batch processing system such as Hadoop, we usually care about throughput—the\n",
    "number of records we can process per second, or the total time it takes to run a job\n",
    "on a dataset of a certain size. In online systems, what’s usually more important is the\n",
    "service’s response time—that is, the time between a client sending a request and\n",
    "receiving a response.\n",
    "\n",
    "![](images/image_4.png)"
   ]
  },
  {
   "cell_type": "markdown",
   "metadata": {},
   "source": [
    "#### **Scalability Strategy**\n",
    "\n",
    "Some systems are elastic, meaning that they can automatically add computing resources\n",
    "when they detect a load increase, whereas other systems are scaled manually (a\n",
    "human analyzes the capacity and decides to add more machines to the system). An\n",
    "elastic system can be useful if load is highly unpredictable, but manually scaled systems\n",
    "are simpler and may have fewer operational surprises.\n",
    "\n",
    "An architecture that scales well for a particular application is built around assumptions\n",
    "of which operations will be common and which will be rare—the load parameters.\n",
    "If those assumptions turn out to be wrong, the engineering effort for scaling is at\n",
    "best wasted, and at worst counterproductive. In an early-stage startup or an unproven\n",
    "product it’s usually more important to be able to iterate quickly on product features\n",
    "than it is to scale to some hypothetical future load.\n",
    "\n",
    "For example, a system that is designed to handle 100,000 requests per second, each\n",
    "1 kB in size, looks very different from a system that is designed for 3 requests per\n",
    "minute, each 2 GB in size—even though the two systems have the same data throughput.\n",
    "\n",
    "---"
   ]
  },
  {
   "cell_type": "markdown",
   "metadata": {},
   "source": [
    "### **Maintainability**\n",
    "\n",
    "We can and should design software in such a way that it will hopefully minimize\n",
    "pain during maintenance, and thus avoid creating legacy software ourselves. To\n",
    "this end, we will pay particular attention to three design principles for software\n",
    "systems:\n",
    "* **Operability:**\n",
    "Make it easy for operations teams to keep the system running smoothly.\n",
    "* **Simplicity:**\n",
    "Make it easy for new engineers to understand the system, by removing as much\n",
    "complexity as possible from the system. (Note this is not the same as simplicity\n",
    "of the user interface.)\n",
    "* **Evolvability:**\n",
    "Make it easy for engineers to make changes to the system in the future, adapting\n",
    "it for unanticipated use cases as requirements change. Also known as extensibility,\n",
    "modifiability, or plasticity.\n",
    "\n",
    "As previously with reliability and scalability, there are no easy solutions for achieving\n",
    "these goals. Rather, we will try to think about systems with operability, simplicity,\n",
    "and evolvability in mind."
   ]
  },
  {
   "cell_type": "markdown",
   "metadata": {},
   "source": [
    "#### **Operability**\n",
    "\n",
    "Good operability means making routine tasks easy, allowing the operations team to\n",
    "focus their efforts on high-value activities. Data systems can do various things to\n",
    "make routine tasks easy, including:\n",
    "* Providing visibility into the runtime behavior and internals of the system, with\n",
    "good monitoring\n",
    "* Providing good support for automation and integration with standard tools\n",
    "* Avoiding dependency on individual machines (allowing machines to be taken\n",
    "down for maintenance while the system as a whole continues running uninterrupted)\n",
    "* Providing good documentation and an easy-to-understand operational model\n",
    "(“If I do X, Y will happen”)\n",
    "* Providing good default behavior, but also giving administrators the freedom to\n",
    "override defaults when needed\n",
    "* Self-healing where appropriate, but also giving administrators manual control\n",
    "over the system state when needed\n",
    "* Exhibiting predictable behavior, minimizing surprises"
   ]
  },
  {
   "cell_type": "markdown",
   "metadata": {},
   "source": [
    "#### **Simplicity**\n",
    "One of the best tools we have for removing accidental complexity is abstraction. A\n",
    "good abstraction can hide a great deal of implementation detail behind a clean,\n",
    "simple-to-understand façade. A good abstraction can also be used for a wide range of\n",
    "different applications. Not only is this reuse more efficient than reimplementing a\n",
    "similar thing multiple times, but it also leads to higher-quality software, as quality\n",
    "improvements in the abstracted component benefit all applications that use it."
   ]
  },
  {
   "cell_type": "markdown",
   "metadata": {},
   "source": [
    "#### **Evolvability**\n",
    "\n",
    "In terms of organizational processes, Agile working patterns provide a framework for\n",
    "adapting to change. The Agile community has also developed technical tools and patterns\n",
    "that are helpful when developing software in a frequently changing environment,\n",
    "such as test-driven development (TDD) and refactoring.\n",
    "\n",
    "Maintainability has many facets, but in essence it’s about making life better for the\n",
    "engineering and operations teams who need to work with the system. Good abstractions\n",
    "can help reduce complexity and make the system easier to modify and adapt for\n",
    "new use cases. Good operability means having good visibility into the system’s health,\n",
    "and having effective ways of managing it."
   ]
  }
 ],
 "metadata": {
  "kernelspec": {
   "display_name": "Python 3",
   "language": "python",
   "name": "python3"
  },
  "language_info": {
   "codemirror_mode": {
    "name": "ipython",
    "version": 3
   },
   "file_extension": ".py",
   "mimetype": "text/x-python",
   "name": "python",
   "nbconvert_exporter": "python",
   "pygments_lexer": "ipython3",
   "version": "3.7.3"
  }
 },
 "nbformat": 4,
 "nbformat_minor": 2
}
