{
 "cells": [
  {
   "cell_type": "markdown",
   "metadata": {},
   "source": [
    "## Chapter 2: Data Models and Query Languages\n",
    "Different data models (relational, document, graph-based) have different characteristics that are best suited to some use cases.\n",
    "\n",
    "---"
   ]
  },
  {
   "cell_type": "markdown",
   "metadata": {},
   "source": [
    "### Relational model vs Document model\n",
    "The relational model was a theoretical proposal, and many people at the time\n",
    "doubted whether it could be implemented efficiently. However, by the mid-1980s,\n",
    "relational database management systems (RDBMSes) and SQL had become the tools\n",
    "of choice for most people who needed to store and query data with some kind of regular\n",
    "structure. The dominance of relational databases has lasted around 25‒30 years\n",
    "—an eternity in computing history.\n",
    "\n",
    "The roots of relational databases lie in business data processing, which was performed\n",
    "on mainframe computers in the 1960s and ’70s. The use cases appear mundane from\n",
    "today’s perspective: typically transaction processing (entering sales or banking transactions,\n",
    "airline reservations, stock-keeping in warehouses) and batch processing (customer\n",
    "invoicing, payroll, reporting).\n",
    "\n",
    "Relational databases turned out to\n",
    "generalize very well, beyond their original scope of business data processing, to a\n",
    "broad variety of use cases. Much of what you see on the web today is still powered by\n",
    "relational databases, be it online publishing, discussion, social networking, ecommerce,\n",
    "games, software-as-a-service productivity applications, or much more."
   ]
  },
  {
   "cell_type": "markdown",
   "metadata": {},
   "source": [
    "#### The Birth of NoSQL\n",
    "\n",
    "There are several driving forces behind the adoption of NoSQL databases, including:\n",
    "* A need for greater scalability than relational databases can easily achieve, including\n",
    "very large datasets or very high write throughput\n",
    "* A widespread preference for free and open source software over commercial\n",
    "database products\n",
    "* Specialized query operations that are not well supported by the relational model\n",
    "* Frustration with the restrictiveness of relational schemas, and a desire for a more\n",
    "dynamic and expressive data model\n",
    "\n",
    "---"
   ]
  },
  {
   "cell_type": "markdown",
   "metadata": {},
   "source": [
    "### Graph-Like Data Models\n",
    "\n",
    "If your application has mostly one-to-many relationships\n",
    "(tree-structured data) or no relationships between records, the document\n",
    "model is appropriate.\n",
    "\n",
    "But what if many-to-many relationships are very common in your data? The relational\n",
    "model can handle s\n",
    "imple cases of many-to-many relationships, but as the connections\n",
    "within your data become more complex, it becomes more natural to start\n",
    "modeling your data as a graph.\n",
    "\n",
    "A graph consists of two kinds of objects: _vertices_ (also known as nodes or entities) and\n",
    "_edges_ (also known as relationships or arcs). Many kinds of data can be modeled as a\n",
    "graph. Typical examples include:\n",
    "* Social graphs\n",
    "    - Vertices are people, and edges indicate which people know each other.\n",
    "* The web graph\n",
    "    - Vertices are web pages, and edges indicate HTML links to other pages.\n",
    "* Road or rail networks\n",
    "    - Vertices are junctions, and edges represent the roads or railway lines between\n",
    "them.\n",
    "\n",
    "![](images/image_5.png)"
   ]
  },
  {
   "cell_type": "markdown",
   "metadata": {},
   "source": [
    "The most common implementations of the graph data model use two different abstractions **property graph** and **triple-store**.\n",
    "\n",
    "#### Property graph\n",
    "In the property graph model, each vertex consists of:\n",
    "* A unique identifier\n",
    "* A set of outgoing edges\n",
    "* A set of incoming edges\n",
    "* A collection of properties (key-value pairs)\n",
    "\n",
    "Each edge consists of:\n",
    "* A unique identifier\n",
    "* The vertex at which the edge starts (the tail vertex)\n",
    "* The vertex at which the edge ends (the head vertex)\n",
    "* A label to describe the kind of relationship between the two vertices\n",
    "* A collection of properties (key-value pairs)\n",
    "\n",
    "Some important aspects of this model are:\n",
    "1. Any vertex can have an edge connecting it with any other vertex. There is no\n",
    "schema that restricts which kinds of things can or cannot be associated.\n",
    "2. Given any vertex, you can efficiently find both its incoming and its outgoing\n",
    "edges, and thus traverse the graph—i.e., follow a path through a chain of vertices\n",
    "—both forward and backward.\n",
    "3. By using different labels for different kinds of relationships, you can store several\n",
    "different kinds of information in a single graph, while still maintaining a clean\n",
    "data model."
   ]
  },
  {
   "cell_type": "markdown",
   "metadata": {},
   "source": [
    "#### Triple-store\n",
    "The triple-store model is mostly equivalent to the property graph model, using different\n",
    "words to describe the same ideas. It is nevertheless worth discussing, because\n",
    "there are various tools and languages for triple-stores that can be valuable additions\n",
    "to your toolbox for building applications.\n",
    "\n",
    "In a triple-store, all information is stored in the form of very simple three-part statements:\n",
    "(subject, predicate, object). For example, in the triple (Jim, likes, bananas), Jim\n",
    "is the subject, likes is the predicate (verb), and bananas is the object.\n",
    "\n",
    "The subject of a triple is equivalent to a vertex in a graph. The object is one of two\n",
    "things:\n",
    "1. A value in a primitive datatype, such as a string or a number. In that case, the\n",
    "predicate and object of the triple are equivalent to the key and value of a property\n",
    "on the subject vertex. For example, (lucy, age, 33) is like a vertex lucy with properties\n",
    "{\"age\":33}.\n",
    "2. Another vertex in the graph. In that case, the predicate is an edge in the graph,\n",
    "the subject is the tail vertex, and the object is the head vertex. For example, in\n",
    "(lucy, marriedTo, alain) the subject and object lucy and alain are both vertices,\n",
    "and the predicate marriedTo is the label of the edge that connects them.\n",
    "\n",
    "---"
   ]
  },
  {
   "cell_type": "markdown",
   "metadata": {},
   "source": [
    "Examples of data base systems using a graph-like data model:\n",
    "\n",
    "| Property graph|Triple-store  |\n",
    "| ------------- |-------------:|\n",
    "| Neo4j         | Datomic      |\n",
    "| Titan         | AllegroGraph |\n",
    "| InfiniteGraph |              |\n",
    "\n",
    "Declarative query languages for graphs: Cypher, SPARQL, and Datalog\n",
    "\n",
    "---"
   ]
  },
  {
   "cell_type": "markdown",
   "metadata": {},
   "source": [
    "There are other data models specifically designed for some use cases, for example:\n",
    "\n",
    "* Researchers working with genome data often need to perform sequencesimilarity\n",
    "searches, which means taking one very long string (representing a\n",
    "DNA molecule) and matching it against a large database of strings that are similar,\n",
    "but not identical. \n",
    "\n",
    "None of the databases described here can handle this kind\n",
    "of usage, which is why researchers have written specialized genome database\n",
    "software like GenBank.\n",
    "\n",
    "* Particle physicists have been doing Big Data–style large-scale data analysis for\n",
    "decades, and projects like the Large Hadron Collider (LHC) now work with hundreds\n",
    "of petabytes! At such a scale custom solutions are required to stop the\n",
    "hardware cost from spiraling out of control\n",
    "\n",
    "* Full-text search is arguably a kind of data model that is frequently used alongside\n",
    "databases."
   ]
  }
 ],
 "metadata": {
  "kernelspec": {
   "display_name": "Python 3",
   "language": "python",
   "name": "python3"
  },
  "language_info": {
   "codemirror_mode": {
    "name": "ipython",
    "version": 3
   },
   "file_extension": ".py",
   "mimetype": "text/x-python",
   "name": "python",
   "nbconvert_exporter": "python",
   "pygments_lexer": "ipython3",
   "version": "3.7.3"
  }
 },
 "nbformat": 4,
 "nbformat_minor": 2
}
